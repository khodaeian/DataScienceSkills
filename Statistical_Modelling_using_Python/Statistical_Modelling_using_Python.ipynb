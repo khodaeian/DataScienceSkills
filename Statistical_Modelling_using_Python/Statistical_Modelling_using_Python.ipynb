{
  "nbformat": 4,
  "nbformat_minor": 0,
  "metadata": {
    "colab": {
      "provenance": [],
      "authorship_tag": "ABX9TyOnaQDTcPSiGlJkPmDbaWav",
      "include_colab_link": true
    },
    "kernelspec": {
      "name": "python3",
      "display_name": "Python 3"
    },
    "language_info": {
      "name": "python"
    }
  },
  "cells": [
    {
      "cell_type": "markdown",
      "metadata": {
        "id": "view-in-github",
        "colab_type": "text"
      },
      "source": [
        "<a href=\"https://colab.research.google.com/github/khodaeian/DataScienceSkills/blob/main/Statistical_Modelling_using_Python.ipynb\" target=\"_parent\"><img src=\"https://colab.research.google.com/assets/colab-badge.svg\" alt=\"Open In Colab\"/></a>"
      ]
    },
    {
      "cell_type": "code",
      "execution_count": null,
      "metadata": {
        "id": "8Cq6Y81fbT4r"
      },
      "outputs": [],
      "source": [
        "import pandas as pd\n",
        "\n",
        "# load the dataset\n",
        "music_data = pd.read_csv('musicdata.csv')\n",
        "print(music_data.head())"
      ]
    }
  ]
}
